{
 "cells": [
  {
   "cell_type": "code",
   "execution_count": 1,
   "id": "23b3cf1c",
   "metadata": {},
   "outputs": [
    {
     "name": "stdout",
     "output_type": "stream",
     "text": [
      "+------+---------------+------+--------+---+-------+------+------+--------------------+------------+------+-------+-----------------+---+---+---------+------+\n",
      "|    ID|Diabetes_binary|HighBP|HighChol|BMI|BMIBand|Smoker|Stroke|HeartDiseaseorAttack|PhysActivity|Fruits|Veggies|HvyAlcoholConsump|Sex|Age|Education|Income|\n",
      "+------+---------------+------+--------+---+-------+------+------+--------------------+------------+------+-------+-----------------+---+---+---------+------+\n",
      "|131805|              0|     1|       0| 42|      6|     0|     1|                   0|           0|     1|      0|                0|  0| 12|        2|     2|\n",
      "|229519|              0|     0|       0| 23|      2|     0|     0|                   0|           1|     1|      1|                0|  0|  9|        5|     7|\n",
      "|125271|              0|     0|       1| 25|      3|     1|     0|                   0|           1|     0|      0|                0|  1| 12|        5|     7|\n",
      "|183133|              0|     0|       0| 24|      2|     1|     0|                   0|           1|     1|      1|                0|  1| 12|        6|     5|\n",
      "|198610|              0|     1|       1| 27|      3|     0|     0|                   0|           1|     0|      1|                0|  1|  5|        5|     7|\n",
      "|108655|              0|     0|       1| 21|      2|     0|     0|                   0|           1|     0|      0|                0|  0|  1|        5|     8|\n",
      "|  3664|              0|     1|       1| 36|      5|     0|     0|                   0|           1|     0|      1|                0|  0| 10|        4|     5|\n",
      "|163110|              0|     0|       0| 22|      2|     0|     0|                   0|           0|     0|      1|                0|  0|  3|        5|     7|\n",
      "|201945|              0|     1|       1| 32|      4|     1|     0|                   0|           1|     1|      1|                0|  0|  9|        4|     5|\n",
      "| 60198|              0|     0|       0| 31|      4|     1|     0|                   0|           0|     0|      1|                0|  1|  7|        5|     5|\n",
      "|138218|              0|     0|       0| 26|      3|     0|     0|                   0|           0|     1|      1|                0|  1|  8|        5|     3|\n",
      "| 83845|              0|     0|       0| 29|      3|     1|     0|                   0|           1|     1|      1|                0|  1|  2|        6|     7|\n",
      "|154244|              0|     0|       0| 16|      1|     1|     0|                   0|           1|     1|      0|                0|  0| 10|        3|     2|\n",
      "|246929|              0|     1|       0| 41|      6|     1|     0|                   0|           1|     0|      1|                0|  0|  7|        6|     8|\n",
      "| 17645|              0|     0|       0| 25|      3|     1|     0|                   0|           0|     1|      1|                0|  1|  1|        3|     6|\n",
      "|   800|              0|     1|       1| 26|      3|     0|     0|                   0|           1|     0|      0|                0|  0|  8|        4|     1|\n",
      "|134803|              0|     0|       1| 25|      3|     0|     0|                   0|           1|     1|      1|                0|  0|  8|        4|     7|\n",
      "|154915|              0|     0|       0| 26|      3|     1|     0|                   0|           1|     1|      1|                0|  0| 11|        6|     7|\n",
      "|167352|              0|     0|       0| 21|      2|     0|     0|                   0|           1|     0|      1|                0|  0|  5|        5|     8|\n",
      "|161227|              0|     1|       1| 27|      3|     0|     0|                   0|           1|     1|      1|                0|  1| 11|        6|     8|\n",
      "+------+---------------+------+--------+---+-------+------+------+--------------------+------------+------+-------+-----------------+---+---+---------+------+\n",
      "only showing top 20 rows\n",
      "\n"
     ]
    }
   ],
   "source": [
    "import findspark\n",
    "findspark.init()\n",
    "import pyspark\n",
    "from pyspark.sql import SparkSession\n",
    "spark = SparkSession.builder.appName('diabetes').getOrCreate()\n",
    "df = spark.read.csv('Datasets/04DataTransformation.csv', inferSchema=True, header=True)\n",
    "df.show()"
   ]
  },
  {
   "cell_type": "code",
   "execution_count": 2,
   "id": "5ae9e153",
   "metadata": {},
   "outputs": [
    {
     "name": "stdout",
     "output_type": "stream",
     "text": [
      "Training Data count : 63964\n",
      "Testing Data count : 15988\n",
      "Training Ratio : 0.8000300180108065\n"
     ]
    }
   ],
   "source": [
    "# Split the data into training and test sets (20% held out for testing).\n",
    "(trainingData, testData) = df.randomSplit([0.8, 0.2])\n",
    "print(f\"Training Data count : {trainingData.count()}\")\n",
    "print(f\"Testing Data count : {testData.count()}\")\n",
    "\n",
    "# Check that training set has around 80% of records\n",
    "training_ratio = trainingData.count() / df.count()\n",
    "print(f\"Training Ratio : {training_ratio}\")"
   ]
  },
  {
   "cell_type": "code",
   "execution_count": 3,
   "id": "e37f6dd8",
   "metadata": {},
   "outputs": [
    {
     "name": "stdout",
     "output_type": "stream",
     "text": [
      "Training Data count : 64017\n",
      "Testing Data count : 15935\n",
      "Training Ratio : 0.8006929157494497\n"
     ]
    }
   ],
   "source": [
    "from pyspark.ml.linalg import Vectors\n",
    "from pyspark.ml.feature import VectorAssembler\n",
    "from pyspark.ml.feature import StringIndexer\n",
    "\n",
    "assembler = VectorAssembler(\n",
    "  inputCols=['HighBP', 'HighChol', 'BMI', 'Smoker', 'Stroke', 'HeartDiseaseorAttack',\n",
    "          'PhysActivity', 'Fruits', 'HvyAlcoholConsump', 'Veggies', 'Sex', 'Age', 'Education', 'Income'],\n",
    "              outputCol=\"features\")\n",
    "output = assembler.transform(df)\n",
    "indexer = StringIndexer(inputCol=\"Diabetes_binary\", outputCol=\"DiabetesIndex\")\n",
    "output_fixed = indexer.fit(output).transform(output)\n",
    "final_data = output_fixed.select(\"features\",'DiabetesIndex')\n",
    "train_data,test_data = final_data.randomSplit([0.8,0.2])\n",
    "print(f\"Training Data count : {train_data.count()}\")\n",
    "print(f\"Testing Data count : {test_data.count()}\")\n",
    "\n",
    "# Check that training set has around 80% of records\n",
    "training_ratio = train_data.count() / df.count()\n",
    "print(f\"Training Ratio : {training_ratio}\")"
   ]
  },
  {
   "cell_type": "code",
   "execution_count": 4,
   "id": "376bb7ea",
   "metadata": {},
   "outputs": [
    {
     "name": "stdout",
     "output_type": "stream",
     "text": [
      "+----------+-------------+--------------------+\n",
      "|prediction|DiabetesIndex|            features|\n",
      "+----------+-------------+--------------------+\n",
      "|       1.0|          1.0|(14,[0,1,2,3,4,11...|\n",
      "|       1.0|          1.0|(14,[0,1,2,3,4,11...|\n",
      "|       1.0|          1.0|(14,[0,1,2,3,4,11...|\n",
      "|       1.0|          0.0|(14,[0,1,2,3,4,11...|\n",
      "|       1.0|          0.0|(14,[0,1,2,3,4,11...|\n",
      "+----------+-------------+--------------------+\n",
      "only showing top 5 rows\n",
      "\n"
     ]
    }
   ],
   "source": [
    "from pyspark.ml.classification import DecisionTreeClassifier,GBTClassifier,RandomForestClassifier\n",
    "from pyspark.ml import Pipeline\n",
    "\n",
    "dtc = DecisionTreeClassifier(labelCol='DiabetesIndex',featuresCol='features')\n",
    "dtc_model = dtc.fit(train_data)\n",
    "fields=['HighBP', 'HighChol', 'BMI', 'Smoker', 'Stroke', 'HeartDiseaseorAttack',\n",
    "          'PhysActivity', 'Fruits', 'HvyAlcoholConsump', 'Veggies', 'Sex', 'Age', 'Education', 'Income']\n",
    "dtc_predictions = dtc_model.transform(test_data)\n",
    "dtc_predictions.select('prediction', 'DiabetesIndex','features').show(5)"
   ]
  },
  {
   "cell_type": "code",
   "execution_count": 5,
   "id": "129b1ef7",
   "metadata": {},
   "outputs": [
    {
     "name": "stdout",
     "output_type": "stream",
     "text": [
      "Correctness of the Decision Tree Model is :       0.7067573591104074\n"
     ]
    }
   ],
   "source": [
    "from pyspark.ml.evaluation import BinaryClassificationEvaluator\n",
    "diabetes_binary_eval = BinaryClassificationEvaluator(labelCol = 'DiabetesIndex')\n",
    "print(f\"Correctness of the Decision Tree Model is : \\\n",
    "      {diabetes_binary_eval.evaluate(dtc_predictions)}\")"
   ]
  },
  {
   "cell_type": "code",
   "execution_count": 6,
   "id": "ace1f097",
   "metadata": {},
   "outputs": [
    {
     "name": "stdout",
     "output_type": "stream",
     "text": [
      "+----------+-------------+--------------------+\n",
      "|prediction|DiabetesIndex|            features|\n",
      "+----------+-------------+--------------------+\n",
      "|       1.0|          1.0|(14,[0,1,2,3,4,11...|\n",
      "|       1.0|          1.0|(14,[0,1,2,3,4,11...|\n",
      "|       1.0|          1.0|(14,[0,1,2,3,4,11...|\n",
      "|       1.0|          0.0|(14,[0,1,2,3,4,11...|\n",
      "|       1.0|          0.0|(14,[0,1,2,3,4,11...|\n",
      "+----------+-------------+--------------------+\n",
      "only showing top 5 rows\n",
      "\n",
      "Correctness of the Random Forest Model is :       0.7891685318018347\n"
     ]
    }
   ],
   "source": [
    "rfc = RandomForestClassifier(labelCol='DiabetesIndex',featuresCol='features')\n",
    "rfc_model = rfc.fit(train_data)\n",
    "rfc_predictions = rfc_model.transform(test_data)\n",
    "rfc_predictions.select('prediction', 'DiabetesIndex','features').show(5)\n",
    "print(f\"Correctness of the Random Forest Model is : \\\n",
    "      {diabetes_binary_eval.evaluate(rfc_predictions)}\")"
   ]
  },
  {
   "cell_type": "code",
   "execution_count": 7,
   "id": "b9a13f41",
   "metadata": {},
   "outputs": [
    {
     "name": "stdout",
     "output_type": "stream",
     "text": [
      "+---------------+----------+------+--------+------+---+------+------------+------+-------+---+---+---------+------+\n",
      "|Diabetes_binary|prediction|HighBP|HighChol|Stroke|BMI|Smoker|PhysActivity|Fruits|Veggies|Sex|Age|Education|Income|\n",
      "+---------------+----------+------+--------+------+---+------+------------+------+-------+---+---+---------+------+\n",
      "|              0|       1.0|     1|       1|     0| 25|     1|           1|     0|      1|  0| 11|        4|     4|\n",
      "|              1|       1.0|     1|       0|     0| 31|     0|           0|     1|      0|  0| 13|        4|     4|\n",
      "|              0|       0.0|     1|       0|     0| 28|     0|           1|     0|      1|  1|  8|        4|     8|\n",
      "|              1|       1.0|     0|       1|     0| 32|     0|           1|     0|      0|  0| 13|        2|     2|\n",
      "|              0|       1.0|     1|       0|     0| 39|     0|           0|     1|      0|  1|  8|        4|     8|\n",
      "|              1|       1.0|     0|       1|     1| 29|     1|           1|     0|      0|  0| 11|        5|     2|\n",
      "|              0|       0.0|     1|       0|     0| 27|     1|           1|     0|      1|  0|  9|        6|     8|\n",
      "|              0|       1.0|     1|       1|     0| 31|     0|           1|     0|      1|  1| 10|        4|     8|\n",
      "|              1|       1.0|     1|       1|     0| 27|     0|           1|     0|      1|  0|  9|        6|     5|\n",
      "|              0|       0.0|     0|       1|     0| 18|     1|           1|     0|      0|  0|  8|        6|     7|\n",
      "|              1|       1.0|     1|       1|     0| 28|     0|           0|     1|      1|  0| 12|        5|     3|\n",
      "|              1|       1.0|     1|       0|     0| 32|     1|           1|     0|      1|  1| 10|        5|     8|\n",
      "|              1|       1.0|     1|       1|     0| 37|     0|           1|     1|      1|  0| 13|        6|     7|\n",
      "|              0|       0.0|     0|       0|     0| 27|     1|           1|     1|      1|  0| 12|        5|     4|\n",
      "|              0|       0.0|     0|       0|     0| 34|     0|           0|     1|      1|  0|  6|        6|     7|\n",
      "|              0|       1.0|     1|       1|     0| 31|     1|           1|     1|      0|  1|  9|        4|     1|\n",
      "|              0|       0.0|     0|       1|     0| 32|     1|           0|     0|      1|  1|  9|        6|     8|\n",
      "|              1|       1.0|     1|       0|     0| 38|     1|           0|     0|      0|  1|  8|        5|     6|\n",
      "|              1|       1.0|     1|       1|     0| 26|     1|           0|     1|      0|  0| 10|        6|     7|\n",
      "|              1|       0.0|     1|       1|     0| 16|     0|           0|     0|      1|  1| 10|        6|     8|\n",
      "+---------------+----------+------+--------+------+---+------+------------+------+-------+---+---+---------+------+\n",
      "only showing top 20 rows\n",
      "\n"
     ]
    }
   ],
   "source": [
    "from pyspark.ml.classification import LogisticRegression\n",
    "from pyspark.ml import Pipeline\n",
    "from pyspark.ml.evaluation import BinaryClassificationEvaluator\n",
    "\n",
    "log_reg = LogisticRegression(featuresCol='features',labelCol='Diabetes_binary')\n",
    "train_data, test_data = df.randomSplit([0.8,0.2])\n",
    "\n",
    "pipeline = Pipeline(stages=[assembler,log_reg])\n",
    "fit_model = pipeline.fit(train_data)\n",
    "lrc_predictions = fit_model.transform(test_data)\n",
    "\n",
    "diabetes_eval = BinaryClassificationEvaluator(rawPredictionCol='prediction',\n",
    "                                       labelCol='Diabetes_binary')\n",
    "lrc_predictions.select('Diabetes_binary','prediction', 'HighBP', 'HighChol','Stroke', 'BMI', 'Smoker', \\\n",
    "               'PhysActivity', 'Fruits', 'Veggies', 'Sex', 'Age', 'Education', 'Income').show()"
   ]
  },
  {
   "cell_type": "code",
   "execution_count": 8,
   "id": "a524ff4e",
   "metadata": {},
   "outputs": [
    {
     "name": "stdout",
     "output_type": "stream",
     "text": [
      "Correctness of the Logistical Regerssion Model is :       0.7250848888585888\n"
     ]
    }
   ],
   "source": [
    "print(f\"Correctness of the Logistical Regerssion Model is : \\\n",
    "      {diabetes_eval.evaluate(lrc_predictions)}\")"
   ]
  },
  {
   "cell_type": "code",
   "execution_count": 12,
   "id": "6ed9a507",
   "metadata": {},
   "outputs": [
    {
     "name": "stdout",
     "output_type": "stream",
     "text": [
      "Correctness of the Decision Tree Model is :       0.6889840488607429\n"
     ]
    }
   ],
   "source": [
    "assembler = VectorAssembler(\n",
    "  inputCols=['HighBP', 'HighChol', 'BMI', 'Smoker', 'Stroke', 'HeartDiseaseorAttack',\n",
    "          'PhysActivity', 'Fruits', 'HvyAlcoholConsump', 'Veggies', 'Sex', 'Age', 'Education', 'Income'],\n",
    "              outputCol=\"features\")\n",
    "output = assembler.transform(df)\n",
    "indexer = StringIndexer(inputCol=\"Diabetes_binary\", outputCol=\"DiabetesIndex\")\n",
    "output_fixed = indexer.fit(output).transform(output)\n",
    "final_data = output_fixed.select(\"features\",'DiabetesIndex')\n",
    "train_data,test_data = final_data.randomSplit([0.9,0.1])\n",
    "\n",
    "from pyspark.ml.classification import DecisionTreeClassifier,GBTClassifier,RandomForestClassifier\n",
    "from pyspark.ml import Pipeline\n",
    "\n",
    "dtc = DecisionTreeClassifier(labelCol='DiabetesIndex',featuresCol='features')\n",
    "dtc_model = dtc.fit(train_data)\n",
    "fields=['HighBP', 'HighChol', 'BMI', 'Smoker', 'Stroke', 'HeartDiseaseorAttack',\n",
    "          'PhysActivity', 'Fruits', 'HvyAlcoholConsump', 'Veggies', 'Sex', 'Age', 'Education', 'Income']\n",
    "dtc_predictions = dtc_model.transform(test_data)\n",
    "diabetes_binary_eval = BinaryClassificationEvaluator(labelCol = 'DiabetesIndex')\n",
    "print(f\"Correctness of the Decision Tree Model is : \\\n",
    "      {diabetes_binary_eval.evaluate(dtc_predictions)}\")"
   ]
  },
  {
   "cell_type": "code",
   "execution_count": 15,
   "id": "1249d327",
   "metadata": {},
   "outputs": [
    {
     "name": "stdout",
     "output_type": "stream",
     "text": [
      "Correctness of the Decision Tree Model is :       0.7030121084120815\n"
     ]
    }
   ],
   "source": [
    "assembler = VectorAssembler(\n",
    "  inputCols=[ 'HighChol', 'HvyAlcoholConsump', 'Sex', 'Age', 'Education', 'Income'],\n",
    "              outputCol=\"features\")\n",
    "output = assembler.transform(df)\n",
    "indexer = StringIndexer(inputCol=\"Diabetes_binary\", outputCol=\"DiabetesIndex\")\n",
    "output_fixed = indexer.fit(output).transform(output)\n",
    "final_data = output_fixed.select(\"features\",'DiabetesIndex')\n",
    "train_data,test_data = final_data.randomSplit([0.9,0.1])\n",
    "\n",
    "from pyspark.ml.classification import DecisionTreeClassifier,GBTClassifier,RandomForestClassifier\n",
    "from pyspark.ml import Pipeline\n",
    "\n",
    "dtc = DecisionTreeClassifier(labelCol='DiabetesIndex',featuresCol='features')\n",
    "dtc_model = dtc.fit(train_data)\n",
    "dtc_predictions = dtc_model.transform(test_data)\n",
    "diabetes_binary_eval = BinaryClassificationEvaluator(labelCol = 'DiabetesIndex')\n",
    "print(f\"Correctness of the Decision Tree Model is : \\\n",
    "      {diabetes_binary_eval.evaluate(dtc_predictions)}\")"
   ]
  },
  {
   "cell_type": "code",
   "execution_count": null,
   "id": "ab679543",
   "metadata": {},
   "outputs": [],
   "source": []
  }
 ],
 "metadata": {
  "kernelspec": {
   "display_name": "Python 3 (ipykernel)",
   "language": "python",
   "name": "python3"
  },
  "language_info": {
   "codemirror_mode": {
    "name": "ipython",
    "version": 3
   },
   "file_extension": ".py",
   "mimetype": "text/x-python",
   "name": "python",
   "nbconvert_exporter": "python",
   "pygments_lexer": "ipython3",
   "version": "3.9.12"
  }
 },
 "nbformat": 4,
 "nbformat_minor": 5
}
